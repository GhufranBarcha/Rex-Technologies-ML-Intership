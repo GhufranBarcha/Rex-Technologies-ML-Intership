{
 "cells": [
  {
   "cell_type": "markdown",
   "id": "785afe59",
   "metadata": {},
   "source": [
    "# Task 1 : Text Sentiment Analysis"
   ]
  },
  {
   "cell_type": "markdown",
   "id": "b3bdf5ca",
   "metadata": {},
   "source": [
    "# Objective\n",
    "    The objective of this task is to perform sentiment analysis on a dataset of text data obtained from\n",
    "    Kaggle. The goal is to analyze each text and assign a corresponding sentiment label (e.g., positive,\n",
    "    negative, or neutral). This task will encompass data cleaning, preprocessing, feature engineering, model\n",
    "    selection, and evaluation.\n"
   ]
  },
  {
   "cell_type": "markdown",
   "id": "ea067360",
   "metadata": {},
   "source": [
    "# Methodology\n",
    "\n",
    "###  1. Data Collection\n",
    "###  2. Data Cleaning and Preprocessing\n",
    "###  3. Exploratory Data Analysis (EDA)\n",
    "###  4. Feature Engineering\n",
    "###  5. Model Selection\n",
    "###  6. Model Training and Evaluation\n"
   ]
  },
  {
   "cell_type": "markdown",
   "id": "3ab3cf97",
   "metadata": {},
   "source": [
    "# Data Collection:"
   ]
  },
  {
   "cell_type": "markdown",
   "id": "a722397e",
   "metadata": {},
   "source": [
    "This is an entity-level sentiment analysis dataset of twitter. Given a message and an entity, the task is to judge the sentiment of the message about the entity. There are three classes in this dataset:\n",
    "- Positive\n",
    "- Negative\n",
    "- Neutral\n",
    "- Irrelevant \n",
    "\n",
    "The Dataset is downloaded to our drive in csv format from there we will retrieve our data using pandas dataframe."
   ]
  },
  {
   "cell_type": "code",
   "execution_count": 28,
   "id": "291c4453",
   "metadata": {},
   "outputs": [],
   "source": [
    "## Import all the necessary libraries here\n",
    "\n",
    "import pandas as pd\n",
    "import numpy as np\n",
    "import re\n",
    "import matplotlib.pyplot as plt\n",
    "import seaborn as sns\n",
    "from wordcloud import WordCloud\n",
    "\n"
   ]
  },
  {
   "cell_type": "code",
   "execution_count": 2,
   "id": "3058ec89",
   "metadata": {},
   "outputs": [],
   "source": [
    "## Retrive data here using pandas Dataframe\n",
    "\n",
    "train_df = pd.read_csv(\"./twitter_dataset/twitter_training.csv\" ,header = None)\n",
    "test_df = pd.read_csv(\"./twitter_dataset/twitter_validation.csv\" ,header = None)"
   ]
  },
  {
   "cell_type": "code",
   "execution_count": 3,
   "id": "775e1329",
   "metadata": {},
   "outputs": [],
   "source": [
    "## View the Train Data and test data\n",
    "train_df = train_df.drop(train_df.iloc[:,0:2],axis = 1)\n",
    "test_df = test_df.drop(test_df.iloc[:,0:2],axis = 1)\n",
    "\n"
   ]
  },
  {
   "cell_type": "code",
   "execution_count": 4,
   "id": "5d0f883c",
   "metadata": {},
   "outputs": [
    {
     "data": {
      "text/html": [
       "<div>\n",
       "<style scoped>\n",
       "    .dataframe tbody tr th:only-of-type {\n",
       "        vertical-align: middle;\n",
       "    }\n",
       "\n",
       "    .dataframe tbody tr th {\n",
       "        vertical-align: top;\n",
       "    }\n",
       "\n",
       "    .dataframe thead th {\n",
       "        text-align: right;\n",
       "    }\n",
       "</style>\n",
       "<table border=\"1\" class=\"dataframe\">\n",
       "  <thead>\n",
       "    <tr style=\"text-align: right;\">\n",
       "      <th></th>\n",
       "      <th>sentiment</th>\n",
       "      <th>text</th>\n",
       "    </tr>\n",
       "  </thead>\n",
       "  <tbody>\n",
       "    <tr>\n",
       "      <th>0</th>\n",
       "      <td>Positive</td>\n",
       "      <td>im getting on borderlands and i will murder yo...</td>\n",
       "    </tr>\n",
       "    <tr>\n",
       "      <th>1</th>\n",
       "      <td>Positive</td>\n",
       "      <td>I am coming to the borders and I will kill you...</td>\n",
       "    </tr>\n",
       "    <tr>\n",
       "      <th>2</th>\n",
       "      <td>Positive</td>\n",
       "      <td>im getting on borderlands and i will kill you ...</td>\n",
       "    </tr>\n",
       "    <tr>\n",
       "      <th>3</th>\n",
       "      <td>Positive</td>\n",
       "      <td>im coming on borderlands and i will murder you...</td>\n",
       "    </tr>\n",
       "    <tr>\n",
       "      <th>4</th>\n",
       "      <td>Positive</td>\n",
       "      <td>im getting on borderlands 2 and i will murder ...</td>\n",
       "    </tr>\n",
       "  </tbody>\n",
       "</table>\n",
       "</div>"
      ],
      "text/plain": [
       "  sentiment                                               text\n",
       "0  Positive  im getting on borderlands and i will murder yo...\n",
       "1  Positive  I am coming to the borders and I will kill you...\n",
       "2  Positive  im getting on borderlands and i will kill you ...\n",
       "3  Positive  im coming on borderlands and i will murder you...\n",
       "4  Positive  im getting on borderlands 2 and i will murder ..."
      ]
     },
     "execution_count": 4,
     "metadata": {},
     "output_type": "execute_result"
    }
   ],
   "source": [
    "## view the data \n",
    "text_df = pd.concat((train_df ,test_df) ,axis = 0)\n",
    "text_df.rename(columns = {2 : \"sentiment\" ,3: \"text\"} ,inplace = True)\n",
    "text_df.head()"
   ]
  },
  {
   "cell_type": "code",
   "execution_count": null,
   "id": "93694342",
   "metadata": {},
   "outputs": [],
   "source": []
  },
  {
   "cell_type": "markdown",
   "id": "90f4e5eb",
   "metadata": {},
   "source": [
    " # Data Cleaning and Preprocessing\n",
    "\n",
    "- Check for missing value \n",
    "- Remove duplicates text\n",
    "- Casing\n",
    "- Remove Noise(http link ,@ ,# hashtage etc)\n",
    "- \n",
    "\n"
   ]
  },
  {
   "cell_type": "code",
   "execution_count": 5,
   "id": "69d9a997",
   "metadata": {},
   "outputs": [
    {
     "name": "stdout",
     "output_type": "stream",
     "text": [
      "sentiment      0\n",
      "text         686\n",
      "dtype: int64\n",
      "\n",
      " After droped \n",
      "sentiment    0\n",
      "text         0\n",
      "dtype: int64\n"
     ]
    }
   ],
   "source": [
    "## check for nan and missing values\n",
    "print(text_df.isna().sum())\n",
    "\n",
    "# drops Nan Values from DataFrame\n",
    "text_df.dropna(inplace=True)\n",
    "\n",
    "print(\"\\n\" ,\"After droped \")\n",
    "print(text_df.isna().sum())"
   ]
  },
  {
   "cell_type": "code",
   "execution_count": 9,
   "id": "d4dd1a7b",
   "metadata": {},
   "outputs": [
    {
     "name": "stdout",
     "output_type": "stream",
     "text": [
      "Duplicated Rows 4744\n",
      "Duplicated Rows after 0\n"
     ]
    }
   ],
   "source": [
    "## check for duplicates\n",
    "print(\"Duplicated Rows\",text_df.duplicated().sum())\n",
    "\n",
    "\n",
    "## Drop duplicates values\n",
    "text_df.drop_duplicates(inplace = True)\n",
    "\n",
    "print(\"Duplicated Rows after\",text_df.duplicated().sum())"
   ]
  },
  {
   "cell_type": "code",
   "execution_count": 18,
   "id": "09901ae1",
   "metadata": {},
   "outputs": [],
   "source": [
    "#Now perform preprocessing on the text \n",
    "## this function will remove the unnecceray characters\n",
    "def textProcessing(text):\n",
    "    text = text.lower()\n",
    "    text = re.sub(r\"https\\S+|www\\S+https\\S+\", '',text, flags=re.MULTILINE)\n",
    "    text = re.sub(r'\\@w+|\\#','',text)\n",
    "    text = re.sub(r'[^\\w\\s\\n]','',text)\n",
    "    return text\n",
    "    "
   ]
  },
  {
   "cell_type": "code",
   "execution_count": 19,
   "id": "3ef8e33c",
   "metadata": {},
   "outputs": [],
   "source": [
    "text_df.text = text_df['text'].apply(textProcessing)"
   ]
  },
  {
   "cell_type": "code",
   "execution_count": 20,
   "id": "298c6562",
   "metadata": {},
   "outputs": [
    {
     "data": {
      "text/plain": [
       "0      im getting on borderlands and i will murder yo...\n",
       "1      i am coming to the borders and i will kill you...\n",
       "2      im getting on borderlands and i will kill you all\n",
       "3      im coming on borderlands and i will murder you...\n",
       "4      im getting on borderlands 2 and i will murder ...\n",
       "                             ...                        \n",
       "988     suikoden 2\\n1 alex kidd in miracle world\\n pe...\n",
       "989    thank you to matching funds home depot rw paym...\n",
       "991    late night stream with the boys come watch som...\n",
       "995     toronto is the arts and culture capital of ca...\n",
       "996    this is actually a good move tot bring more vi...\n",
       "Name: text, Length: 70252, dtype: object"
      ]
     },
     "execution_count": 20,
     "metadata": {},
     "output_type": "execute_result"
    }
   ],
   "source": [
    "text_df['text']"
   ]
  },
  {
   "cell_type": "code",
   "execution_count": 24,
   "id": "2522dfc7",
   "metadata": {},
   "outputs": [
    {
     "data": {
      "text/plain": [
       "Negative      21329\n",
       "Positive      19271\n",
       "Neutral       17281\n",
       "Irrelevant    12371\n",
       "Name: sentiment, dtype: int64"
      ]
     },
     "execution_count": 24,
     "metadata": {},
     "output_type": "execute_result"
    }
   ],
   "source": [
    "text_df[\"sentiment\"].value_counts()"
   ]
  },
  {
   "cell_type": "markdown",
   "id": "60e4d115",
   "metadata": {},
   "source": [
    "# Exploratory Data Analysis (EDA)\n",
    "- Will visualize data(unbalance data ,wordcloud etc)\n",
    "- will use different graph to visualize"
   ]
  },
  {
   "cell_type": "code",
   "execution_count": 40,
   "id": "9acd7f3e",
   "metadata": {},
   "outputs": [
    {
     "data": {
      "image/png": "[encoded data removed]",
      "text/plain": [
       "<Figure size 800x600 with 1 Axes>"
      ]
     },
     "metadata": {},
     "output_type": "display_data"
    }
   ],
   "source": [
    "## Visualize the sentiment Distribution\n",
    "\n",
    "# Visualizing the Sentiment Distribution\n",
    "plt.figure(figsize=(8, 6))\n",
    "sns.countplot(data=text_df, x='sentiment')\n",
    "plt.title('Distribution of Sentiment Classes')\n",
    "plt.xlabel('Sentiment')\n",
    "plt.ylabel('Count')\n",
    "plt.show()"
   ]
  },
  {
   "cell_type": "markdown",
   "id": "39e24f69",
   "metadata": {},
   "source": [
    "## As we can view from the figure above graph that the is label is well balananced\n"
   ]
  },
  {
   "cell_type": "markdown",
   "id": "00610d81",
   "metadata": {},
   "source": [
    "## Now view WorkCloud for each sentiment"
   ]
  },
  {
   "cell_type": "code",
   "execution_count": 39,
   "id": "1e7511d1",
   "metadata": {},
   "outputs": [
    {
     "data": {
      "image/png": "[encoded data removed]",
      "text/plain": [
       "<Figure size 800x600 with 1 Axes>"
      ]
     },
     "metadata": {},
     "output_type": "display_data"
    },
    {
     "ename": "ValueError",
     "evalue": "We need at least 1 word to plot a word cloud, got 0.",
     "output_type": "error",
     "traceback": [
      "\u001b[1;31m---------------------------------------------------------------------------\u001b[0m",
      "\u001b[1;31mValueError\u001b[0m                                Traceback (most recent call last)",
      "Cell \u001b[1;32mIn[39], line 20\u001b[0m\n\u001b[0;32m     18\u001b[0m plt\u001b[38;5;241m.\u001b[39msubplot(\u001b[38;5;241m2\u001b[39m, \u001b[38;5;241m2\u001b[39m, i)\n\u001b[0;32m     19\u001b[0m text_subset \u001b[38;5;241m=\u001b[39m \u001b[38;5;124m\"\u001b[39m\u001b[38;5;124m \u001b[39m\u001b[38;5;124m\"\u001b[39m\u001b[38;5;241m.\u001b[39mjoin(text_df[text_df[\u001b[38;5;124m'\u001b[39m\u001b[38;5;124msentiment\u001b[39m\u001b[38;5;124m'\u001b[39m] \u001b[38;5;241m==\u001b[39m i\u001b[38;5;241m-\u001b[39m\u001b[38;5;241m1\u001b[39m][\u001b[38;5;124m'\u001b[39m\u001b[38;5;124mtext\u001b[39m\u001b[38;5;124m'\u001b[39m])\n\u001b[1;32m---> 20\u001b[0m wordcloud \u001b[38;5;241m=\u001b[39m \u001b[43mWordCloud\u001b[49m\u001b[43m(\u001b[49m\u001b[43mwidth\u001b[49m\u001b[38;5;241;43m=\u001b[39;49m\u001b[38;5;241;43m800\u001b[39;49m\u001b[43m,\u001b[49m\u001b[43m \u001b[49m\u001b[43mheight\u001b[49m\u001b[38;5;241;43m=\u001b[39;49m\u001b[38;5;241;43m400\u001b[39;49m\u001b[43m,\u001b[49m\u001b[43m \u001b[49m\u001b[43mbackground_color\u001b[49m\u001b[38;5;241;43m=\u001b[39;49m\u001b[38;5;124;43m'\u001b[39;49m\u001b[38;5;124;43mwhite\u001b[39;49m\u001b[38;5;124;43m'\u001b[39;49m\u001b[43m)\u001b[49m\u001b[38;5;241;43m.\u001b[39;49m\u001b[43mgenerate\u001b[49m\u001b[43m(\u001b[49m\u001b[43mtext_subset\u001b[49m\u001b[43m)\u001b[49m\n\u001b[0;32m     21\u001b[0m plt\u001b[38;5;241m.\u001b[39mimshow(wordcloud, interpolation\u001b[38;5;241m=\u001b[39m\u001b[38;5;124m'\u001b[39m\u001b[38;5;124mbilinear\u001b[39m\u001b[38;5;124m'\u001b[39m)\n\u001b[0;32m     22\u001b[0m plt\u001b[38;5;241m.\u001b[39mtitle(\u001b[38;5;124mf\u001b[39m\u001b[38;5;124m'\u001b[39m\u001b[38;5;124mWord Cloud for \u001b[39m\u001b[38;5;132;01m{\u001b[39;00msentiment\u001b[38;5;132;01m}\u001b[39;00m\u001b[38;5;124m Sentiments\u001b[39m\u001b[38;5;124m'\u001b[39m)\n",
      "File \u001b[1;32m~\\anaconda\\lib\\site-packages\\wordcloud\\wordcloud.py:639\u001b[0m, in \u001b[0;36mWordCloud.generate\u001b[1;34m(self, text)\u001b[0m\n\u001b[0;32m    624\u001b[0m \u001b[38;5;28;01mdef\u001b[39;00m \u001b[38;5;21mgenerate\u001b[39m(\u001b[38;5;28mself\u001b[39m, text):\n\u001b[0;32m    625\u001b[0m     \u001b[38;5;124;03m\"\"\"Generate wordcloud from text.\u001b[39;00m\n\u001b[0;32m    626\u001b[0m \n\u001b[0;32m    627\u001b[0m \u001b[38;5;124;03m    The input \"text\" is expected to be a natural text. If you pass a sorted\u001b[39;00m\n\u001b[1;32m   (...)\u001b[0m\n\u001b[0;32m    637\u001b[0m \u001b[38;5;124;03m    self\u001b[39;00m\n\u001b[0;32m    638\u001b[0m \u001b[38;5;124;03m    \"\"\"\u001b[39;00m\n\u001b[1;32m--> 639\u001b[0m     \u001b[38;5;28;01mreturn\u001b[39;00m \u001b[38;5;28;43mself\u001b[39;49m\u001b[38;5;241;43m.\u001b[39;49m\u001b[43mgenerate_from_text\u001b[49m\u001b[43m(\u001b[49m\u001b[43mtext\u001b[49m\u001b[43m)\u001b[49m\n",
      "File \u001b[1;32m~\\anaconda\\lib\\site-packages\\wordcloud\\wordcloud.py:621\u001b[0m, in \u001b[0;36mWordCloud.generate_from_text\u001b[1;34m(self, text)\u001b[0m\n\u001b[0;32m    604\u001b[0m \u001b[38;5;124;03m\"\"\"Generate wordcloud from text.\u001b[39;00m\n\u001b[0;32m    605\u001b[0m \n\u001b[0;32m    606\u001b[0m \u001b[38;5;124;03mThe input \"text\" is expected to be a natural text. If you pass a sorted\u001b[39;00m\n\u001b[1;32m   (...)\u001b[0m\n\u001b[0;32m    618\u001b[0m \u001b[38;5;124;03mself\u001b[39;00m\n\u001b[0;32m    619\u001b[0m \u001b[38;5;124;03m\"\"\"\u001b[39;00m\n\u001b[0;32m    620\u001b[0m words \u001b[38;5;241m=\u001b[39m \u001b[38;5;28mself\u001b[39m\u001b[38;5;241m.\u001b[39mprocess_text(text)\n\u001b[1;32m--> 621\u001b[0m \u001b[38;5;28;43mself\u001b[39;49m\u001b[38;5;241;43m.\u001b[39;49m\u001b[43mgenerate_from_frequencies\u001b[49m\u001b[43m(\u001b[49m\u001b[43mwords\u001b[49m\u001b[43m)\u001b[49m\n\u001b[0;32m    622\u001b[0m \u001b[38;5;28;01mreturn\u001b[39;00m \u001b[38;5;28mself\u001b[39m\n",
      "File \u001b[1;32m~\\anaconda\\lib\\site-packages\\wordcloud\\wordcloud.py:410\u001b[0m, in \u001b[0;36mWordCloud.generate_from_frequencies\u001b[1;34m(self, frequencies, max_font_size)\u001b[0m\n\u001b[0;32m    408\u001b[0m frequencies \u001b[38;5;241m=\u001b[39m \u001b[38;5;28msorted\u001b[39m(frequencies\u001b[38;5;241m.\u001b[39mitems(), key\u001b[38;5;241m=\u001b[39mitemgetter(\u001b[38;5;241m1\u001b[39m), reverse\u001b[38;5;241m=\u001b[39m\u001b[38;5;28;01mTrue\u001b[39;00m)\n\u001b[0;32m    409\u001b[0m \u001b[38;5;28;01mif\u001b[39;00m \u001b[38;5;28mlen\u001b[39m(frequencies) \u001b[38;5;241m<\u001b[39m\u001b[38;5;241m=\u001b[39m \u001b[38;5;241m0\u001b[39m:\n\u001b[1;32m--> 410\u001b[0m     \u001b[38;5;28;01mraise\u001b[39;00m \u001b[38;5;167;01mValueError\u001b[39;00m(\u001b[38;5;124m\"\u001b[39m\u001b[38;5;124mWe need at least 1 word to plot a word cloud, \u001b[39m\u001b[38;5;124m\"\u001b[39m\n\u001b[0;32m    411\u001b[0m                      \u001b[38;5;124m\"\u001b[39m\u001b[38;5;124mgot \u001b[39m\u001b[38;5;132;01m%d\u001b[39;00m\u001b[38;5;124m.\u001b[39m\u001b[38;5;124m\"\u001b[39m \u001b[38;5;241m%\u001b[39m \u001b[38;5;28mlen\u001b[39m(frequencies))\n\u001b[0;32m    412\u001b[0m frequencies \u001b[38;5;241m=\u001b[39m frequencies[:\u001b[38;5;28mself\u001b[39m\u001b[38;5;241m.\u001b[39mmax_words]\n\u001b[0;32m    414\u001b[0m \u001b[38;5;66;03m# largest entry will be 1\u001b[39;00m\n",
      "\u001b[1;31mValueError\u001b[0m: We need at least 1 word to plot a word cloud, got 0."
     ]
    },
    {
     "data": {
      "image/png": "[encoded data removed]",
      "text/plain": [
       "<Figure size 1500x1000 with 1 Axes>"
      ]
     },
     "metadata": {},
     "output_type": "display_data"
    }
   ],
   "source": [
    "import matplotlib.pyplot as plt\n",
    "import seaborn as sns\n",
    "from wordcloud import WordCloud\n",
    "\n",
    "# Word Clouds for Each Sentiment\n",
    "sentiments = [\"Negative\", \"Positive\", \"Neutral\", \"Irrelevant\"]\n",
    "\n",
    "plt.figure(figsize=(15, 10))\n",
    "for i, sentiment in enumerate(sentiments, 1):\n",
    "    plt.subplot(2, 2, i)\n",
    "    text_subset = \" \".join(text_df[text_df['sentiment'] == i-1]['text'])\n",
    "    wordcloud = WordCloud(width=800, height=400, background_color='white').generate(text_subset)\n",
    "    plt.imshow(wordcloud, interpolation='bilinear')\n",
    "    plt.title(f'Word Cloud for {sentiment} Sentiments')\n",
    "    plt.axis('off')\n",
    "\n",
    "plt.tight_layout()\n",
    "plt.show()\n",
    "\n"
   ]
  },
  {
   "cell_type": "code",
   "execution_count": null,
   "id": "4612daf9",
   "metadata": {},
   "outputs": [],
   "source": []
  }
 ],
 "metadata": {
  "kernelspec": {
   "display_name": "Python 3 (ipykernel)",
   "language": "python",
   "name": "python3"
  },
  "language_info": {
   "codemirror_mode": {
    "name": "ipython",
    "version": 3
   },
   "file_extension": ".py",
   "mimetype": "text/x-python",
   "name": "python",
   "nbconvert_exporter": "python",
   "pygments_lexer": "ipython3",
   "version": "3.10.9"
  }
 },
 "nbformat": 4,
 "nbformat_minor": 5
}
