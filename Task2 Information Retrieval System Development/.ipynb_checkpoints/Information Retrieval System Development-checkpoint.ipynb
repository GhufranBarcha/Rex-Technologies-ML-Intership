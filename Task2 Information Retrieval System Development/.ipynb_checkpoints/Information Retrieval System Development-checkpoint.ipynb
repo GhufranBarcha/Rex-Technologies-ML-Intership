{
 "cells": [
  {
   "cell_type": "markdown",
   "id": "7cb4dba1",
   "metadata": {},
   "source": [
    "# Task Objective:\n",
    "    Your mission is to design and implement an Information Retrieval (IR) system capable of efficiently\n",
    "    retrieving relevant documents from a given dataset. Below are the key steps and details for this project:"
   ]
  },
  {
   "cell_type": "markdown",
   "id": "2a2cecf1",
   "metadata": {},
   "source": [
    "# Methodology\n",
    "\n",
    "###  1. Dataset Selection and Preparation\n",
    "\n",
    "###  2. Data Preprocessing\n",
    "###  3. User Query Interface\n",
    "###  4. Retrieval Algorithm\n",
    "###  5. Query Processing\n",
    "###  7. User Feedback (Optional)\n",
    "\n",
    "###  6. Evaluation\n",
    "###  8. Documentation and Presentation\n"
   ]
  },
  {
   "cell_type": "markdown",
   "id": "24bdd430",
   "metadata": {},
   "source": [
    "# 1. Dataset Selection and Preparation:\n",
    "  - This Dataset is scraped from https://www.thenews.com.pk website. It has news articles from 2015 till date related to     business and sports. It Contains the Heading of the particular Article, Its content and its date. The content also contains the place from where the statement or Article was published.\n",
    "  - you can download this dataset from kaggle( https://www.kaggle.com/datasets/asad1m9a9h6mood/news-articles)\n",
    "  \n",
    "### About this csv file\n",
    "  Data set contains 4 columns\n",
    "\n",
    " - Article : Text having the news article and the place where it was published from\n",
    "- Heading : Text containing the heading of the news article.\n",
    "- Date : Date when the article was published.\n",
    "- NewsType : Type of Article i.e business or sports"
   ]
  },
  {
   "cell_type": "markdown",
   "id": "ee5af669",
   "metadata": {},
   "source": [
    "## Importing Libraries "
   ]
  },
  {
   "cell_type": "code",
   "execution_count": 64,
   "id": "c28788ca",
   "metadata": {},
   "outputs": [],
   "source": [
    "## Importing necessary libraries\n",
    "import pandas as pd\n",
    "import numpy as np\n",
    "import re\n",
    "from nltk.stem import WordNetLemmatizer\n",
    "from nltk.corpus import stopwords ,wordnet\n",
    "from nltk.tokenize import word_tokenize\n",
    "import matplotlib.pyplot as plt"
   ]
  },
  {
   "cell_type": "code",
   "execution_count": 65,
   "id": "dd472da4",
   "metadata": {},
   "outputs": [
    {
     "data": {
      "text/html": [
       "<div>\n",
       "<style scoped>\n",
       "    .dataframe tbody tr th:only-of-type {\n",
       "        vertical-align: middle;\n",
       "    }\n",
       "\n",
       "    .dataframe tbody tr th {\n",
       "        vertical-align: top;\n",
       "    }\n",
       "\n",
       "    .dataframe thead th {\n",
       "        text-align: right;\n",
       "    }\n",
       "</style>\n",
       "<table border=\"1\" class=\"dataframe\">\n",
       "  <thead>\n",
       "    <tr style=\"text-align: right;\">\n",
       "      <th></th>\n",
       "      <th>Article</th>\n",
       "      <th>Date</th>\n",
       "      <th>Heading</th>\n",
       "      <th>NewsType</th>\n",
       "    </tr>\n",
       "  </thead>\n",
       "  <tbody>\n",
       "    <tr>\n",
       "      <th>0</th>\n",
       "      <td>KARACHI: The Sindh government has decided to b...</td>\n",
       "      <td>1/1/2015</td>\n",
       "      <td>sindh govt decides to cut public transport far...</td>\n",
       "      <td>business</td>\n",
       "    </tr>\n",
       "    <tr>\n",
       "      <th>1</th>\n",
       "      <td>HONG KONG: Asian markets started 2015 on an up...</td>\n",
       "      <td>1/2/2015</td>\n",
       "      <td>asia stocks up in new year trad</td>\n",
       "      <td>business</td>\n",
       "    </tr>\n",
       "    <tr>\n",
       "      <th>2</th>\n",
       "      <td>HONG KONG:  Hong Kong shares opened 0.66 perce...</td>\n",
       "      <td>1/5/2015</td>\n",
       "      <td>hong kong stocks open 0.66 percent lower</td>\n",
       "      <td>business</td>\n",
       "    </tr>\n",
       "    <tr>\n",
       "      <th>3</th>\n",
       "      <td>HONG KONG: Asian markets tumbled Tuesday follo...</td>\n",
       "      <td>1/6/2015</td>\n",
       "      <td>asian stocks sink euro near nine year</td>\n",
       "      <td>business</td>\n",
       "    </tr>\n",
       "    <tr>\n",
       "      <th>4</th>\n",
       "      <td>NEW YORK: US oil prices Monday slipped below $...</td>\n",
       "      <td>1/6/2015</td>\n",
       "      <td>us oil prices slip below 50 a barr</td>\n",
       "      <td>business</td>\n",
       "    </tr>\n",
       "  </tbody>\n",
       "</table>\n",
       "</div>"
      ],
      "text/plain": [
       "                                             Article      Date  \\\n",
       "0  KARACHI: The Sindh government has decided to b...  1/1/2015   \n",
       "1  HONG KONG: Asian markets started 2015 on an up...  1/2/2015   \n",
       "2  HONG KONG:  Hong Kong shares opened 0.66 perce...  1/5/2015   \n",
       "3  HONG KONG: Asian markets tumbled Tuesday follo...  1/6/2015   \n",
       "4  NEW YORK: US oil prices Monday slipped below $...  1/6/2015   \n",
       "\n",
       "                                             Heading  NewsType  \n",
       "0  sindh govt decides to cut public transport far...  business  \n",
       "1                    asia stocks up in new year trad  business  \n",
       "2           hong kong stocks open 0.66 percent lower  business  \n",
       "3             asian stocks sink euro near nine year   business  \n",
       "4                 us oil prices slip below 50 a barr  business  "
      ]
     },
     "execution_count": 65,
     "metadata": {},
     "output_type": "execute_result"
    }
   ],
   "source": [
    "## Import the dataframe using pandas \n",
    "df = pd.read_csv(\"./dataset/Articles.csv\", encoding='latin1')\n",
    "df.head()"
   ]
  },
  {
   "cell_type": "code",
   "execution_count": 66,
   "id": "432e2af5",
   "metadata": {},
   "outputs": [
    {
     "data": {
      "text/html": [
       "<div>\n",
       "<style scoped>\n",
       "    .dataframe tbody tr th:only-of-type {\n",
       "        vertical-align: middle;\n",
       "    }\n",
       "\n",
       "    .dataframe tbody tr th {\n",
       "        vertical-align: top;\n",
       "    }\n",
       "\n",
       "    .dataframe thead th {\n",
       "        text-align: right;\n",
       "    }\n",
       "</style>\n",
       "<table border=\"1\" class=\"dataframe\">\n",
       "  <thead>\n",
       "    <tr style=\"text-align: right;\">\n",
       "      <th></th>\n",
       "      <th>Article</th>\n",
       "      <th>NewsType</th>\n",
       "    </tr>\n",
       "  </thead>\n",
       "  <tbody>\n",
       "    <tr>\n",
       "      <th>0</th>\n",
       "      <td>KARACHI: The Sindh government has decided to b...</td>\n",
       "      <td>business</td>\n",
       "    </tr>\n",
       "    <tr>\n",
       "      <th>1</th>\n",
       "      <td>HONG KONG: Asian markets started 2015 on an up...</td>\n",
       "      <td>business</td>\n",
       "    </tr>\n",
       "    <tr>\n",
       "      <th>2</th>\n",
       "      <td>HONG KONG:  Hong Kong shares opened 0.66 perce...</td>\n",
       "      <td>business</td>\n",
       "    </tr>\n",
       "    <tr>\n",
       "      <th>3</th>\n",
       "      <td>HONG KONG: Asian markets tumbled Tuesday follo...</td>\n",
       "      <td>business</td>\n",
       "    </tr>\n",
       "    <tr>\n",
       "      <th>4</th>\n",
       "      <td>NEW YORK: US oil prices Monday slipped below $...</td>\n",
       "      <td>business</td>\n",
       "    </tr>\n",
       "  </tbody>\n",
       "</table>\n",
       "</div>"
      ],
      "text/plain": [
       "                                             Article  NewsType\n",
       "0  KARACHI: The Sindh government has decided to b...  business\n",
       "1  HONG KONG: Asian markets started 2015 on an up...  business\n",
       "2  HONG KONG:  Hong Kong shares opened 0.66 perce...  business\n",
       "3  HONG KONG: Asian markets tumbled Tuesday follo...  business\n",
       "4  NEW YORK: US oil prices Monday slipped below $...  business"
      ]
     },
     "execution_count": 66,
     "metadata": {},
     "output_type": "execute_result"
    }
   ],
   "source": [
    "## Take the rows only necessary\n",
    "data = df.drop([\"Date\" ,\"Heading\"] ,axis = 1)\n",
    "data.head()"
   ]
  },
  {
   "cell_type": "markdown",
   "id": "5226b2e9",
   "metadata": {},
   "source": [
    "# 2. Data Cleaning & Preprocessing\n",
    "  - Check for missing value\n",
    "- Remove duplicates text\n",
    "- Casing\n",
    "- Removing puntuation"
   ]
  },
  {
   "cell_type": "code",
   "execution_count": 67,
   "id": "0fc8f7ff",
   "metadata": {},
   "outputs": [
    {
     "data": {
      "text/plain": [
       "Article     0\n",
       "NewsType    0\n",
       "dtype: int64"
      ]
     },
     "execution_count": 67,
     "metadata": {},
     "output_type": "execute_result"
    }
   ],
   "source": [
    "## Check for missing values\n",
    "data.isna().sum()"
   ]
  },
  {
   "cell_type": "code",
   "execution_count": 68,
   "id": "3a1cb3c2",
   "metadata": {},
   "outputs": [
    {
     "name": "stdout",
     "output_type": "stream",
     "text": [
      "Duplicates  108\n",
      "After dropping duplicates 0\n"
     ]
    }
   ],
   "source": [
    "## Check for duplicates\n",
    "print(\"Duplicates \",data.duplicated().sum())\n",
    "\n",
    "data.drop_duplicates(inplace = True) ## drop the duplicate\n",
    "\n",
    "print(\"After dropping duplicates\" , data.duplicated().sum())"
   ]
  },
  {
   "cell_type": "code",
   "execution_count": 69,
   "id": "79c3d83d",
   "metadata": {},
   "outputs": [
    {
     "data": {
      "text/html": [
       "<div>\n",
       "<style scoped>\n",
       "    .dataframe tbody tr th:only-of-type {\n",
       "        vertical-align: middle;\n",
       "    }\n",
       "\n",
       "    .dataframe tbody tr th {\n",
       "        vertical-align: top;\n",
       "    }\n",
       "\n",
       "    .dataframe thead th {\n",
       "        text-align: right;\n",
       "    }\n",
       "</style>\n",
       "<table border=\"1\" class=\"dataframe\">\n",
       "  <thead>\n",
       "    <tr style=\"text-align: right;\">\n",
       "      <th></th>\n",
       "      <th>Article</th>\n",
       "      <th>NewsType</th>\n",
       "    </tr>\n",
       "  </thead>\n",
       "  <tbody>\n",
       "    <tr>\n",
       "      <th>0</th>\n",
       "      <td>KARACHI: The Sindh government has decided to b...</td>\n",
       "      <td>business</td>\n",
       "    </tr>\n",
       "    <tr>\n",
       "      <th>1</th>\n",
       "      <td>HONG KONG: Asian markets started 2015 on an up...</td>\n",
       "      <td>business</td>\n",
       "    </tr>\n",
       "    <tr>\n",
       "      <th>2</th>\n",
       "      <td>HONG KONG:  Hong Kong shares opened 0.66 perce...</td>\n",
       "      <td>business</td>\n",
       "    </tr>\n",
       "    <tr>\n",
       "      <th>3</th>\n",
       "      <td>HONG KONG: Asian markets tumbled Tuesday follo...</td>\n",
       "      <td>business</td>\n",
       "    </tr>\n",
       "    <tr>\n",
       "      <th>4</th>\n",
       "      <td>NEW YORK: US oil prices Monday slipped below $...</td>\n",
       "      <td>business</td>\n",
       "    </tr>\n",
       "  </tbody>\n",
       "</table>\n",
       "</div>"
      ],
      "text/plain": [
       "                                             Article  NewsType\n",
       "0  KARACHI: The Sindh government has decided to b...  business\n",
       "1  HONG KONG: Asian markets started 2015 on an up...  business\n",
       "2  HONG KONG:  Hong Kong shares opened 0.66 perce...  business\n",
       "3  HONG KONG: Asian markets tumbled Tuesday follo...  business\n",
       "4  NEW YORK: US oil prices Monday slipped below $...  business"
      ]
     },
     "execution_count": 69,
     "metadata": {},
     "output_type": "execute_result"
    }
   ],
   "source": [
    "## Checking for duplicates in article Column\n",
    "data.duplicated(subset = [\"Article\"]).sum()\n",
    "data.head()"
   ]
  },
  {
   "cell_type": "code",
   "execution_count": 70,
   "id": "de03c471",
   "metadata": {},
   "outputs": [
    {
     "data": {
      "text/html": [
       "<div>\n",
       "<style scoped>\n",
       "    .dataframe tbody tr th:only-of-type {\n",
       "        vertical-align: middle;\n",
       "    }\n",
       "\n",
       "    .dataframe tbody tr th {\n",
       "        vertical-align: top;\n",
       "    }\n",
       "\n",
       "    .dataframe thead th {\n",
       "        text-align: right;\n",
       "    }\n",
       "</style>\n",
       "<table border=\"1\" class=\"dataframe\">\n",
       "  <thead>\n",
       "    <tr style=\"text-align: right;\">\n",
       "      <th></th>\n",
       "      <th>Article</th>\n",
       "      <th>NewsType</th>\n",
       "    </tr>\n",
       "  </thead>\n",
       "  <tbody>\n",
       "    <tr>\n",
       "      <th>2669</th>\n",
       "      <td>strong&gt;DUBAI: Dubai International Airport and ...</td>\n",
       "      <td>business</td>\n",
       "    </tr>\n",
       "    <tr>\n",
       "      <th>2670</th>\n",
       "      <td>strong&gt;BEIJING: Former Prime Minister, Shaukat...</td>\n",
       "      <td>business</td>\n",
       "    </tr>\n",
       "    <tr>\n",
       "      <th>2671</th>\n",
       "      <td>strong&gt;WASHINGTON: Uber has grounded its fleet...</td>\n",
       "      <td>business</td>\n",
       "    </tr>\n",
       "    <tr>\n",
       "      <th>2690</th>\n",
       "      <td>strong&gt;BEIJING: The New Development Bank plans...</td>\n",
       "      <td>business</td>\n",
       "    </tr>\n",
       "    <tr>\n",
       "      <th>2691</th>\n",
       "      <td>strong&gt;KARACHI: Karachi-based technology incub...</td>\n",
       "      <td>business</td>\n",
       "    </tr>\n",
       "  </tbody>\n",
       "</table>\n",
       "</div>"
      ],
      "text/plain": [
       "                                                Article  NewsType\n",
       "2669  strong>DUBAI: Dubai International Airport and ...  business\n",
       "2670  strong>BEIJING: Former Prime Minister, Shaukat...  business\n",
       "2671  strong>WASHINGTON: Uber has grounded its fleet...  business\n",
       "2690  strong>BEIJING: The New Development Bank plans...  business\n",
       "2691  strong>KARACHI: Karachi-based technology incub...  business"
      ]
     },
     "execution_count": 70,
     "metadata": {},
     "output_type": "execute_result"
    }
   ],
   "source": [
    "data.tail()"
   ]
  },
  {
   "cell_type": "code",
   "execution_count": 71,
   "id": "5923b7a2",
   "metadata": {},
   "outputs": [
    {
     "name": "stderr",
     "output_type": "stream",
     "text": [
      "[nltk_data] Downloading package stopwords to\n",
      "[nltk_data]     C:\\Users\\Barcha\\AppData\\Roaming\\nltk_data...\n",
      "[nltk_data]   Package stopwords is already up-to-date!\n",
      "[nltk_data] Downloading package punkt to\n",
      "[nltk_data]     C:\\Users\\Barcha\\AppData\\Roaming\\nltk_data...\n",
      "[nltk_data]   Package punkt is already up-to-date!\n"
     ]
    },
    {
     "data": {
      "text/plain": [
       "True"
      ]
     },
     "execution_count": 71,
     "metadata": {},
     "output_type": "execute_result"
    }
   ],
   "source": [
    "import nltk\n",
    "nltk.download('stopwords')\n",
    "import nltk\n",
    "nltk.download('punkt')"
   ]
  },
  {
   "cell_type": "code",
   "execution_count": 72,
   "id": "599c3d53",
   "metadata": {},
   "outputs": [],
   "source": [
    "## Create a preprocessing function\n",
    "stops_word = set(stopwords.words(\"english\")) ## Will contain stops words\n",
    "\n",
    "def preprocessing(text):\n",
    "    text = text.lower()\n",
    "    text = re.sub(r'https\\S+|www\\S+https\\S+', '', text, flags=re.MULTILINE)\n",
    "    text = re.sub(r'\\@\\w+|\\#', '', text)\n",
    "    text = re.sub(r'[^\\w\\s\\n]', '', text)\n",
    "    text = re.sub(r'<br>|<strong>', '', text)\n",
    "    \n",
    "    lemitizer = WordNetLemmatizer()  ## this function converts the word to its base form\n",
    "    words = word_tokenize(text) ## split the sentence into words/tokens\n",
    "    lemitize_word = [lemitizer.lemmatize(word ,wordnet.VERB) for word in words]\n",
    "    newArray = [stop_word for stop_word in lemitize_word if stop_word not in stops_word]\n",
    "    \n",
    "    return \" \".join(newArray)\n",
    "\n",
    "    "
   ]
  },
  {
   "cell_type": "code",
   "execution_count": 73,
   "id": "37e3111b",
   "metadata": {},
   "outputs": [],
   "source": [
    "## Apply preprocessing\n",
    "data[\"ArticleCleaned\"] = data[\"Article\"].apply(preprocessing)"
   ]
  },
  {
   "cell_type": "code",
   "execution_count": 74,
   "id": "624d8d49",
   "metadata": {},
   "outputs": [
    {
     "data": {
      "text/plain": [
       "0       karachi sindh government decide bring public t...\n",
       "1       hong kong asian market start 2015 upswing limi...\n",
       "2       hong kong hong kong share open 066 percent low...\n",
       "3       hong kong asian market tumble tuesday follow p...\n",
       "4       new york us oil price monday slip 50 barrel fi...\n",
       "                              ...                        \n",
       "2669    strongdubai dubai international airport flag c...\n",
       "2670    strongbeijing former prime minister shaukat az...\n",
       "2671    strongwashington uber ground fleet selfdriving...\n",
       "2690    strongbeijing new development bank plan cofina...\n",
       "2691    strongkarachi karachibased technology incubato...\n",
       "Name: ArticleCleaned, Length: 2584, dtype: object"
      ]
     },
     "execution_count": 74,
     "metadata": {},
     "output_type": "execute_result"
    }
   ],
   "source": [
    "# check the preprocessed data\n",
    "data[\"ArticleCleaned\"]"
   ]
  },
  {
   "cell_type": "code",
   "execution_count": 75,
   "id": "895567a9",
   "metadata": {},
   "outputs": [
    {
     "data": {
      "text/plain": [
       "sports      1408\n",
       "business    1176\n",
       "Name: NewsType, dtype: int64"
      ]
     },
     "execution_count": 75,
     "metadata": {},
     "output_type": "execute_result"
    }
   ],
   "source": [
    "data[\"NewsType\"].value_counts()"
   ]
  },
  {
   "cell_type": "markdown",
   "id": "6085d842",
   "metadata": {},
   "source": [
    "# 3. User Query Interface\n",
    "  - create a query function and preprocess it by using preprocess function from above"
   ]
  },
  {
   "cell_type": "code",
   "execution_count": 76,
   "id": "a23737df",
   "metadata": {},
   "outputs": [],
   "source": [
    "## create a input query function\n",
    "\n",
    "def query():\n",
    "    query = input(\"Write the query(Text) :\\n \")\n",
    "    \n",
    "    query1 = preprocessing(query)  \n",
    "    \n",
    "    return query1"
   ]
  },
  {
   "cell_type": "code",
   "execution_count": null,
   "id": "1f79f928",
   "metadata": {},
   "outputs": [],
   "source": []
  },
  {
   "cell_type": "markdown",
   "id": "e1540a8d",
   "metadata": {},
   "source": [
    "#  4. Retrieval Algorithm\n",
    " - Use cosine_simularity to find the text for the query and print the most likely news article for it"
   ]
  },
  {
   "cell_type": "code",
   "execution_count": 77,
   "id": "ff0b31be",
   "metadata": {},
   "outputs": [],
   "source": [
    "from sklearn.feature_extraction.text import TfidfVectorizer\n",
    "from sklearn.metrics.pairwise import cosine_similarity\n",
    "\n",
    "def algo():\n",
    "    vectorizer = TfidfVectorizer()   ## cont\n",
    "\n",
    "    x = data[\"ArticleCleaned\"]\n",
    "\n",
    "    x_vectorize = vectorizer.fit_transform(x)\n",
    "\n",
    "    query111 = query()\n",
    "   \n",
    "    query_vectorizer = vectorizer.transform([query111])\n",
    "\n",
    "\n",
    "    similarity = cosine_similarity(query_vectorizer ,x_vectorize)\n",
    "    return similarity ,query11\n"
   ]
  },
  {
   "cell_type": "markdown",
   "id": "52f23d5d",
   "metadata": {},
   "source": [
    "## Run below cell to query"
   ]
  },
  {
   "cell_type": "code",
   "execution_count": 81,
   "id": "af35b57e",
   "metadata": {},
   "outputs": [
    {
     "name": "stdout",
     "output_type": "stream",
     "text": [
      "Write the query(Text) :\n",
      " KARACHI: The Sindh government has decided to\n",
      "\n",
      "\n",
      "The index is: 871\n",
      "\n",
      "strong>ISLAMABAD: Sindh Chief Minister Syed Murad Ali Shah has said that World Bank has played an important role in the development of education, health, agriculture and infrastructure sectors in Sindh. \"The urge for development of Sindh has brought me here at the WB Country office.\"</strongThis he said while talking to WB Country Director Mr Illang Patchamuthu at WB Country office where he had a luncheon-meeting with him today.The chief minister said that the total development portfolio of WB in Sindh was $1.14 billion which include Education, health, irrigation, Agriculture, skill development and other sectors.Syed Murad Ali Shah discussed Karachi mega projects which include infrastructure development of the city, water supply and sanitation projects. \"Sindh government needs financial and technical assistance for implementation of these projects,\" he told the World Bank country director.He urged the World Bank country head to send his team to Sindh to discuss these projects with the team of provincial government so that necessary paper work and legal formalities could be done well in time.Presently, two World Bank projects in education sector, a $66m special grant for missing facilities and anothere $400 m Sindh Education Reform Program, are in progress.The chief minister also discussed Sukkur Barrage rehabilitation and canal lining projects with World Bank country chief.The World Bank Country Director assured the chief minister that he would consider all the proposals he had proposed on priority basis. He thanked the chief minister for visiting his office.\n"
     ]
    }
   ],
   "source": [
    "## Search the text for the most relevant match\n",
    "similarity, query11 = algo()\n",
    "max_text_index = similarity[0].argmax()\n",
    "\n",
    "print()\n",
    "print(f\"\\nThe index is: {max_text_index}\\n\")\n",
    "print(data[\"Article\"].iloc[max_text_index])"
   ]
  },
  {
   "cell_type": "markdown",
   "id": "55911998",
   "metadata": {},
   "source": [
    "## First 5 query matches"
   ]
  },
  {
   "cell_type": "code",
   "execution_count": 82,
   "id": "2f399841",
   "metadata": {},
   "outputs": [],
   "source": [
    "ranked_indices = np.argsort(similarity[0])[::-1]\n",
    " \n",
    "ranked_documents = [data[\"Article\"].iloc[idx] for idx in ranked_indices]  "
   ]
  },
  {
   "cell_type": "code",
   "execution_count": 83,
   "id": "856e3cde",
   "metadata": {},
   "outputs": [
    {
     "name": "stdout",
     "output_type": "stream",
     "text": [
      "0\n",
      "strong>ISLAMABAD: Sindh Chief Minister Syed Murad Ali Shah has said that World Bank has played an important role in the development of education, health, agriculture and infrastructure sectors in Sindh. \"The urge for development of Sindh has brought me here at the WB Country office.\"</strongThis he said while talking to WB Country Director Mr Illang Patchamuthu at WB Country office where he had a luncheon-meeting with him today.The chief minister said that the total development portfolio of WB in Sindh was $1.14 billion which include Education, health, irrigation, Agriculture, skill development and other sectors.Syed Murad Ali Shah discussed Karachi mega projects which include infrastructure development of the city, water supply and sanitation projects. \"Sindh government needs financial and technical assistance for implementation of these projects,\" he told the World Bank country director.He urged the World Bank country head to send his team to Sindh to discuss these projects with the team of provincial government so that necessary paper work and legal formalities could be done well in time.Presently, two World Bank projects in education sector, a $66m special grant for missing facilities and anothere $400 m Sindh Education Reform Program, are in progress.The chief minister also discussed Sukkur Barrage rehabilitation and canal lining projects with World Bank country chief.The World Bank Country Director assured the chief minister that he would consider all the proposals he had proposed on priority basis. He thanked the chief minister for visiting his office.\n",
      "----------------------------------------------------------------------------------------------------\n",
      "\n",
      "\n",
      "1\n",
      "KARACHI: The Sindh government has decided to bring down public transport fares by 7 per cent due to massive reduction in petroleum product prices by the federal government, Geo News reported.Sources said reduction in fares will be applicable on public transport, rickshaw, taxi and other means of traveling.Meanwhile, Karachi Transport Ittehad (KTI) has refused to abide by the government decision.KTI President Irshad Bukhari said the commuters are charged the lowest fares in Karachi as compare to other parts of the country, adding that 80pc vehicles run on Compressed Natural Gas (CNG). Bukhari said Karachi transporters will cut fares when decrease in CNG prices will be made.                        \r\n",
      "\r\n",
      "\r\n",
      "\r\n",
      "\r\n",
      "\r\n",
      "\r\n",
      "\r\n",
      "\r\n",
      "\r\n",
      "\r\n",
      "\n",
      "----------------------------------------------------------------------------------------------------\n",
      "\n",
      "\n",
      "2\n",
      "KARACHI: Governor Sindh Dr. Ishrat-ul-Ebad Khan has said exporters of various goods have played a vital role in economy of Pakistan and due to their efforts valuable addition is witnessed in national exchequer every year.This he said while talking to a 9-members delegation of Rice Exporters Association of Pakistan (REAP) at Governor House here on Monday.Principal Secretary to Governor Muhammad Hussain Syed was also present on the occasion.Dr. Ebad said that agriculture was the back-bone of Pakistans economy as majority population is engaged with this sector.Cotton, rice, sugarcane, mango, citrus fruits and other crops have a pivotal contribution in Gross Domestic Product (GDP) of the country as they employ millions of people, he observed.Governor Sindh said that rice is an important part of exports of Pakistan and basmati rice of Pakistan is renowned for its quality and taste worldwide.<br/> It also counts for sizeable amount of foreign exchange, he opined.On pointing of dormant state of Rice Research Institute (RRI), Dokri district, Larkana, Governor Sindh assured that all concerned would be called soon to know the reasons behind its ineffectiveness.The RRI has a very important role in producing new varieties of rice which are not only cost effective but also have visible consumption due to their quality, he added.On complaint of harassment from market committees, Governor Sindh asked Principal Secretary to examine the matter and resolve the same in consultation of all stake holders.He said that after improvement of law and order situation in Karachi, business community was engaged in their economic activities without any fear.Exporters would be provided all possible help and assistance to continue their exports, he assured.Governor Sindh commended the idea of holding a Biryani Festival and said that it would help in increasing rice exports.The Chief Patron of  REAP Abdul Rahim Janoo informed Governor Sindh that the Association has 1600 members from which 850 belong to Sindh.Pakistani rice is exported to 117 countries of the world including China, he said and added that Punjab produces Basmati while Sindh has Irri rice in abundance.He lauded the efforts of Governor Sindh in maintaining law &amp; order in Sindh and providing every possible facilities to business community.The delegation members included Senior Vice Chairman REAP Nauman Ahmed Shaikh, members managing Committee Javed Jilani, Inder Lal, Hamid Qureshi, Latif Paracha, Wajid Paracha, Rauf Aziz and Secretary Altaf Hussain. \n",
      "----------------------------------------------------------------------------------------------------\n",
      "\n",
      "\n",
      "3\n",
      "strong>KARACHI: Pakistan Tehreek-e-Insaf MPA Khurram Sherzaman has submitted a resolution against K-Electric's overbilling and load-shedding issues in the Sindh Assembly.</strongThe resolution asked Sindh government to take action against the power utility for overcharging its consumers through overbilling. This act of the company has put extra financial burden on the masses, it said.Sindh government must take up these problems with the federal government, the motion demanded.\n",
      "----------------------------------------------------------------------------------------------------\n",
      "\n",
      "\n",
      "4\n",
      "strong>KARACHI: Sindh Chief Minister Syed Murad Ali Shah has directed Sindh Revenue Board (SRB) to take necessary measures to bring in the services of insurances in sales tax net.</strongThis he said while presiding over a meeting with Chairman SRB Khalid Mahmood here at the CM House on Tuesday. Secretary Finance Secretary Hassan Naqvi was also present.Murad Ali Shah discussed various issues relating to Sindh Revenue Board and Sindh Sales Tax on Services, including the issues of sales tax on the services of life insurance, health insurance, restaurants, etc.Appreciating the performance of Sindh Revenue Board, the chief minister emphasized the need of making relentless efforts to achieve the assigned target of Rs 78 billion for the current financial year. On this, Chairman SRB Khalid Mahmood said that the SRB has surpassed its six months target by 21 percent.\n",
      "----------------------------------------------------------------------------------------------------\n",
      "\n",
      "\n"
     ]
    }
   ],
   "source": [
    "for i ,news in enumerate(ranked_documents):\n",
    "    print(i)\n",
    "    print(news)\n",
    "    print(100*\"-\")\n",
    "    print(\"\\n\")\n",
    "    if i == 4:\n",
    "        break\n",
    "    "
   ]
  },
  {
   "cell_type": "code",
   "execution_count": null,
   "id": "d84792f5",
   "metadata": {},
   "outputs": [],
   "source": []
  },
  {
   "cell_type": "markdown",
   "id": "f301d28f",
   "metadata": {},
   "source": [
    "  ## Conclusion \n",
    "  - As you cn see from above that successful query and related documents are shown above."
   ]
  },
  {
   "cell_type": "markdown",
   "id": "342043e7",
   "metadata": {},
   "source": []
  },
  {
   "cell_type": "code",
   "execution_count": null,
   "id": "a0f6385f",
   "metadata": {},
   "outputs": [],
   "source": []
  }
 ],
 "metadata": {
  "kernelspec": {
   "display_name": "Python 3 (ipykernel)",
   "language": "python",
   "name": "python3"
  },
  "language_info": {
   "codemirror_mode": {
    "name": "ipython",
    "version": 3
   },
   "file_extension": ".py",
   "mimetype": "text/x-python",
   "name": "python",
   "nbconvert_exporter": "python",
   "pygments_lexer": "ipython3",
   "version": "3.10.9"
  }
 },
 "nbformat": 4,
 "nbformat_minor": 5
}
