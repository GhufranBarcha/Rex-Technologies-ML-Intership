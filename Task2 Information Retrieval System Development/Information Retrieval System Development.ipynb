{
 "cells": [
  {
   "cell_type": "markdown",
   "id": "6d80b590",
   "metadata": {},
   "source": [
    "# Task Objective:\n",
    "    Your mission is to design and implement an Information Retrieval (IR) system capable of efficiently\n",
    "    retrieving relevant documents from a given dataset. Below are the key steps and details for this project:"
   ]
  },
  {
   "cell_type": "markdown",
   "id": "3cd9accf",
   "metadata": {},
   "source": [
    "# Methodology\n",
    "\n",
    "###  1. Dataset Selection and Preparation\n",
    "\n",
    "###  2. Data Preprocessing\n",
    "###  3. User Query Interface\n",
    "###  4. Retrieval Algorithm\n",
    "###  5. Query Processing\n",
    "###  7. User Feedback (Optional)\n",
    "\n",
    "###  6. Evaluation\n",
    "###  8. Documentation and Presentation\n"
   ]
  },
  {
   "cell_type": "markdown",
   "id": "c0ca97c2",
   "metadata": {},
   "source": [
    "# 1. Dataset Selection and Preparation:\n",
    "  - This Dataset is scraped from https://www.thenews.com.pk website. It has news articles from 2015 till date related to     business and sports. It Contains the Heading of the particular Article, Its content and its date. The content also contains the place from where the statement or Article was published.\n",
    "  - you can download this dataset from kaggle( https://www.kaggle.com/datasets/asad1m9a9h6mood/news-articles)\n",
    "  \n",
    "### About this csv file\n",
    "  Data set contains 4 columns\n",
    "\n",
    " - Article : Text having the news article and the place where it was published from\n",
    "- Heading : Text containing the heading of the news article.\n",
    "- Date : Date when the article was published.\n",
    "- NewsType : Type of Article i.e business or sports"
   ]
  },
  {
   "cell_type": "markdown",
   "id": "8b9b849d",
   "metadata": {},
   "source": [
    "## Importing Libraries "
   ]
  },
  {
   "cell_type": "code",
   "execution_count": 70,
   "id": "0e586367",
   "metadata": {},
   "outputs": [],
   "source": [
    "## Importing necessary libraries\n",
    "import pandas as pd\n",
    "import numpy as np\n",
    "import re\n",
    "from nltk.stem import WordNetLemmatizer\n",
    "from nltk.corpus import stopwords ,wordnet"
   ]
  },
  {
   "cell_type": "code",
   "execution_count": 71,
   "id": "496cfb5f",
   "metadata": {},
   "outputs": [
    {
     "data": {
      "text/html": [
       "<div>\n",
       "<style scoped>\n",
       "    .dataframe tbody tr th:only-of-type {\n",
       "        vertical-align: middle;\n",
       "    }\n",
       "\n",
       "    .dataframe tbody tr th {\n",
       "        vertical-align: top;\n",
       "    }\n",
       "\n",
       "    .dataframe thead th {\n",
       "        text-align: right;\n",
       "    }\n",
       "</style>\n",
       "<table border=\"1\" class=\"dataframe\">\n",
       "  <thead>\n",
       "    <tr style=\"text-align: right;\">\n",
       "      <th></th>\n",
       "      <th>Article</th>\n",
       "      <th>Date</th>\n",
       "      <th>Heading</th>\n",
       "      <th>NewsType</th>\n",
       "    </tr>\n",
       "  </thead>\n",
       "  <tbody>\n",
       "    <tr>\n",
       "      <th>0</th>\n",
       "      <td>KARACHI: The Sindh government has decided to b...</td>\n",
       "      <td>1/1/2015</td>\n",
       "      <td>sindh govt decides to cut public transport far...</td>\n",
       "      <td>business</td>\n",
       "    </tr>\n",
       "    <tr>\n",
       "      <th>1</th>\n",
       "      <td>HONG KONG: Asian markets started 2015 on an up...</td>\n",
       "      <td>1/2/2015</td>\n",
       "      <td>asia stocks up in new year trad</td>\n",
       "      <td>business</td>\n",
       "    </tr>\n",
       "    <tr>\n",
       "      <th>2</th>\n",
       "      <td>HONG KONG:  Hong Kong shares opened 0.66 perce...</td>\n",
       "      <td>1/5/2015</td>\n",
       "      <td>hong kong stocks open 0.66 percent lower</td>\n",
       "      <td>business</td>\n",
       "    </tr>\n",
       "    <tr>\n",
       "      <th>3</th>\n",
       "      <td>HONG KONG: Asian markets tumbled Tuesday follo...</td>\n",
       "      <td>1/6/2015</td>\n",
       "      <td>asian stocks sink euro near nine year</td>\n",
       "      <td>business</td>\n",
       "    </tr>\n",
       "    <tr>\n",
       "      <th>4</th>\n",
       "      <td>NEW YORK: US oil prices Monday slipped below $...</td>\n",
       "      <td>1/6/2015</td>\n",
       "      <td>us oil prices slip below 50 a barr</td>\n",
       "      <td>business</td>\n",
       "    </tr>\n",
       "  </tbody>\n",
       "</table>\n",
       "</div>"
      ],
      "text/plain": [
       "                                             Article      Date  \\\n",
       "0  KARACHI: The Sindh government has decided to b...  1/1/2015   \n",
       "1  HONG KONG: Asian markets started 2015 on an up...  1/2/2015   \n",
       "2  HONG KONG:  Hong Kong shares opened 0.66 perce...  1/5/2015   \n",
       "3  HONG KONG: Asian markets tumbled Tuesday follo...  1/6/2015   \n",
       "4  NEW YORK: US oil prices Monday slipped below $...  1/6/2015   \n",
       "\n",
       "                                             Heading  NewsType  \n",
       "0  sindh govt decides to cut public transport far...  business  \n",
       "1                    asia stocks up in new year trad  business  \n",
       "2           hong kong stocks open 0.66 percent lower  business  \n",
       "3             asian stocks sink euro near nine year   business  \n",
       "4                 us oil prices slip below 50 a barr  business  "
      ]
     },
     "execution_count": 71,
     "metadata": {},
     "output_type": "execute_result"
    }
   ],
   "source": [
    "## Import the dataframe using pandas \n",
    "df = pd.read_csv(\"./dataset/Articles.csv\", encoding='latin1')\n",
    "df.head()"
   ]
  },
  {
   "cell_type": "code",
   "execution_count": 72,
   "id": "67ae7d50",
   "metadata": {},
   "outputs": [
    {
     "data": {
      "text/html": [
       "<div>\n",
       "<style scoped>\n",
       "    .dataframe tbody tr th:only-of-type {\n",
       "        vertical-align: middle;\n",
       "    }\n",
       "\n",
       "    .dataframe tbody tr th {\n",
       "        vertical-align: top;\n",
       "    }\n",
       "\n",
       "    .dataframe thead th {\n",
       "        text-align: right;\n",
       "    }\n",
       "</style>\n",
       "<table border=\"1\" class=\"dataframe\">\n",
       "  <thead>\n",
       "    <tr style=\"text-align: right;\">\n",
       "      <th></th>\n",
       "      <th>Article</th>\n",
       "      <th>NewsType</th>\n",
       "    </tr>\n",
       "  </thead>\n",
       "  <tbody>\n",
       "    <tr>\n",
       "      <th>0</th>\n",
       "      <td>KARACHI: The Sindh government has decided to b...</td>\n",
       "      <td>business</td>\n",
       "    </tr>\n",
       "    <tr>\n",
       "      <th>1</th>\n",
       "      <td>HONG KONG: Asian markets started 2015 on an up...</td>\n",
       "      <td>business</td>\n",
       "    </tr>\n",
       "    <tr>\n",
       "      <th>2</th>\n",
       "      <td>HONG KONG:  Hong Kong shares opened 0.66 perce...</td>\n",
       "      <td>business</td>\n",
       "    </tr>\n",
       "    <tr>\n",
       "      <th>3</th>\n",
       "      <td>HONG KONG: Asian markets tumbled Tuesday follo...</td>\n",
       "      <td>business</td>\n",
       "    </tr>\n",
       "    <tr>\n",
       "      <th>4</th>\n",
       "      <td>NEW YORK: US oil prices Monday slipped below $...</td>\n",
       "      <td>business</td>\n",
       "    </tr>\n",
       "  </tbody>\n",
       "</table>\n",
       "</div>"
      ],
      "text/plain": [
       "                                             Article  NewsType\n",
       "0  KARACHI: The Sindh government has decided to b...  business\n",
       "1  HONG KONG: Asian markets started 2015 on an up...  business\n",
       "2  HONG KONG:  Hong Kong shares opened 0.66 perce...  business\n",
       "3  HONG KONG: Asian markets tumbled Tuesday follo...  business\n",
       "4  NEW YORK: US oil prices Monday slipped below $...  business"
      ]
     },
     "execution_count": 72,
     "metadata": {},
     "output_type": "execute_result"
    }
   ],
   "source": [
    "## Take the rows only necessary\n",
    "data = df.drop([\"Date\" ,\"Heading\"] ,axis = 1)\n",
    "data.head()"
   ]
  },
  {
   "cell_type": "markdown",
   "id": "6ae86c6d",
   "metadata": {},
   "source": [
    "# 2. Data Cleaning & Preprocessing\n",
    "  - Check for missing value\n",
    "- Remove duplicates text\n",
    "- Casing\n",
    "- Removing puntuation"
   ]
  },
  {
   "cell_type": "code",
   "execution_count": 73,
   "id": "4ad1f3e6",
   "metadata": {},
   "outputs": [
    {
     "data": {
      "text/plain": [
       "Article     0\n",
       "NewsType    0\n",
       "dtype: int64"
      ]
     },
     "execution_count": 73,
     "metadata": {},
     "output_type": "execute_result"
    }
   ],
   "source": [
    "## Check for missing values\n",
    "data.isna().sum()"
   ]
  },
  {
   "cell_type": "code",
   "execution_count": 74,
   "id": "071f0bb7",
   "metadata": {},
   "outputs": [
    {
     "name": "stdout",
     "output_type": "stream",
     "text": [
      "Duplicates  108\n",
      "After dropping duplicates 0\n"
     ]
    }
   ],
   "source": [
    "## Check for duplicates\n",
    "print(\"Duplicates \",data.duplicated().sum())\n",
    "\n",
    "data.drop_duplicates(inplace = True) ## drop the duplicate\n",
    "\n",
    "print(\"After dropping duplicates\" , data.duplicated().sum())"
   ]
  },
  {
   "cell_type": "code",
   "execution_count": 75,
   "id": "b73b6d83",
   "metadata": {},
   "outputs": [
    {
     "name": "stderr",
     "output_type": "stream",
     "text": [
      "[nltk_data] Downloading package stopwords to\n",
      "[nltk_data]     C:\\Users\\Barcha\\AppData\\Roaming\\nltk_data...\n",
      "[nltk_data]   Package stopwords is already up-to-date!\n"
     ]
    },
    {
     "data": {
      "text/plain": [
       "True"
      ]
     },
     "execution_count": 75,
     "metadata": {},
     "output_type": "execute_result"
    }
   ],
   "source": [
    "## Checking for duplicates in article Column\n",
    "data.duplicated(subset = [\"Article\"]).sum()\n",
    "import nltk\n",
    "nltk.download('stopwords')"
   ]
  },
  {
   "cell_type": "code",
   "execution_count": 76,
   "id": "10945ebd",
   "metadata": {},
   "outputs": [],
   "source": [
    "## Create a preprocessing function\n",
    "stops_word = set(stopwords.words(\"english\"))\n",
    "\n",
    "def preprocessing(text):\n",
    "    text = text.lower()\n",
    "    text = re.sub(r\"https\\S+|www\\S+https\\S+\",'',text ,flags = re.MULTILINE)\n",
    "    text = re.sub(r'\\@w+|\\#','',text)\n",
    "    text = re.sub(r'[^\\w\\s\\n]','',text)\n",
    "    \n",
    "    lemitizer = WordNetLemmatizer()\n",
    "    words = text.split()\n",
    "    lemitize_word = [lemitizer.lemmatize(word ,wordnet.VERB) for word in words]\n",
    "    newArray = [stop_word for stop_word in lemitize_word if stop_word not in stops_word]\n",
    "    \n",
    "    return \" \".join(newArray)\n",
    "\n",
    "    "
   ]
  },
  {
   "cell_type": "code",
   "execution_count": 77,
   "id": "f4ac8421",
   "metadata": {},
   "outputs": [],
   "source": [
    "## Apply preprocessing\n",
    "data[\"Article\"] = data[\"Article\"].apply(preprocessing)"
   ]
  },
  {
   "cell_type": "code",
   "execution_count": 80,
   "id": "222cbc1b",
   "metadata": {},
   "outputs": [
    {
     "data": {
      "text/plain": [
       "0       karachi sindh government decide bring public t...\n",
       "1       hong kong asian market start 2015 upswing limi...\n",
       "2       hong kong hong kong share open 066 percent low...\n",
       "3       hong kong asian market tumble tuesday follow p...\n",
       "4       new york us oil price monday slip 50 barrel fi...\n",
       "                              ...                        \n",
       "2669    strongdubai dubai international airport flag c...\n",
       "2670    strongbeijing former prime minister shaukat az...\n",
       "2671    strongwashington uber ground fleet selfdriving...\n",
       "2690    strongbeijing new development bank plan cofina...\n",
       "2691    strongkarachi karachibased technology incubato...\n",
       "Name: Article, Length: 2584, dtype: object"
      ]
     },
     "execution_count": 80,
     "metadata": {},
     "output_type": "execute_result"
    }
   ],
   "source": [
    "# check the preprocessed data\n",
    "data[\"Article\"]"
   ]
  },
  {
   "cell_type": "code",
   "execution_count": 85,
   "id": "efa730ac",
   "metadata": {},
   "outputs": [
    {
     "data": {
      "text/plain": [
       "sports      1408\n",
       "business    1176\n",
       "Name: NewsType, dtype: int64"
      ]
     },
     "execution_count": 85,
     "metadata": {},
     "output_type": "execute_result"
    }
   ],
   "source": [
    "data[\"NewsType\"].value_counts()"
   ]
  },
  {
   "cell_type": "markdown",
   "id": "7e5e804e",
   "metadata": {},
   "source": [
    "# 3. User Query Interface\n",
    "  - create a query function and preprocess it by using preprocess function from above"
   ]
  },
  {
   "cell_type": "code",
   "execution_count": 88,
   "id": "c8ffd6e6",
   "metadata": {},
   "outputs": [],
   "source": [
    "## create a input query function\n",
    "\n",
    "def query():\n",
    "    query = input(\"Write the query(Text) : \")\n",
    "    print(\"The query before preprocessing: \" ,query)\n",
    "    query = preprocessing(query)\n",
    "    \n",
    "    print(\"\\nThe query after preprocessing: \" ,query)\n",
    "    \n",
    "    return query"
   ]
  },
  {
   "cell_type": "code",
   "execution_count": 89,
   "id": "f9782c08",
   "metadata": {},
   "outputs": [
    {
     "name": "stdout",
     "output_type": "stream",
     "text": [
      "Write the query(Text) : As a writer, this phase serves as the most exciting phase, as everything is already laid down carefully and you get to concretize the things you have already laid down. This phase is indeed crucial for the things you have organized prior to the writing phase.   As a golden rule, always remember to write as you think. Get to be friends with your mind as this plays a huge role in the writing phase. Remember to be as dynamic as you can but keep referencing the base document to see the sub-points and the information you want under each point. You can play words, but always make sure that you pitch the attention of the readers by making use of relevant and accurate pieces of information.  There may be many drafts in your article, it is always important that you aim for effective positioning to readers and comprehensive dissemination of information.  In the actual writing phase, make sure to do these things:  Write a convincing opening paragraph. Making an engaging opening paragraph attracts the attention of the readers. If you start an engaging statement, everything follows the opening statement. It is important to set the attention of the readers. Include keywords: Using remarkable keywords retains the attention of the readers. Also, this effectively lets the readers know your aim for them. Urge your readers to take action. You may conclude your article with a compelling call to action and urge them to respond by leaving a comment or asking questions. This tells you more about their thoughts upon reading your content.  Write in the active voice: Minimize the use of sentences in the passive voice. Using sentences in active voice promotes reading engagement to learners\n",
      "The query before preprocessing:  As a writer, this phase serves as the most exciting phase, as everything is already laid down carefully and you get to concretize the things you have already laid down. This phase is indeed crucial for the things you have organized prior to the writing phase.   As a golden rule, always remember to write as you think. Get to be friends with your mind as this plays a huge role in the writing phase. Remember to be as dynamic as you can but keep referencing the base document to see the sub-points and the information you want under each point. You can play words, but always make sure that you pitch the attention of the readers by making use of relevant and accurate pieces of information.  There may be many drafts in your article, it is always important that you aim for effective positioning to readers and comprehensive dissemination of information.  In the actual writing phase, make sure to do these things:  Write a convincing opening paragraph. Making an engaging opening paragraph attracts the attention of the readers. If you start an engaging statement, everything follows the opening statement. It is important to set the attention of the readers. Include keywords: Using remarkable keywords retains the attention of the readers. Also, this effectively lets the readers know your aim for them. Urge your readers to take action. You may conclude your article with a compelling call to action and urge them to respond by leaving a comment or asking questions. This tells you more about their thoughts upon reading your content.  Write in the active voice: Minimize the use of sentences in the passive voice. Using sentences in active voice promotes reading engagement to learners\n",
      "\n",
      "The query after preprocessing:  writer phase serve excite phase everything already lay carefully get concretize things already lay phase indeed crucial things organize prior write phase golden rule always remember write think get friends mind play huge role write phase remember dynamic keep reference base document see subpoints information want point play word always make sure pitch attention readers make use relevant accurate piece information may many draft article always important aim effective position readers comprehensive dissemination information actual write phase make sure things write convince open paragraph make engage open paragraph attract attention readers start engage statement everything follow open statement important set attention readers include keywords use remarkable keywords retain attention readers also effectively let readers know aim urge readers take action may conclude article compel call action urge respond leave comment ask question tell thoughts upon read content write active voice minimize use sentence passive voice use sentence active voice promote read engagement learners\n"
     ]
    },
    {
     "data": {
      "text/plain": [
       "'writer phase serve excite phase everything already lay carefully get concretize things already lay phase indeed crucial things organize prior write phase golden rule always remember write think get friends mind play huge role write phase remember dynamic keep reference base document see subpoints information want point play word always make sure pitch attention readers make use relevant accurate piece information may many draft article always important aim effective position readers comprehensive dissemination information actual write phase make sure things write convince open paragraph make engage open paragraph attract attention readers start engage statement everything follow open statement important set attention readers include keywords use remarkable keywords retain attention readers also effectively let readers know aim urge readers take action may conclude article compel call action urge respond leave comment ask question tell thoughts upon read content write active voice minimize use sentence passive voice use sentence active voice promote read engagement learners'"
      ]
     },
     "execution_count": 89,
     "metadata": {},
     "output_type": "execute_result"
    }
   ],
   "source": [
    "query()"
   ]
  },
  {
   "cell_type": "markdown",
   "id": "65a604b4",
   "metadata": {},
   "source": [
    "#  4. Retrieval Algorithm"
   ]
  },
  {
   "cell_type": "code",
   "execution_count": null,
   "id": "fe978085",
   "metadata": {},
   "outputs": [],
   "source": []
  }
 ],
 "metadata": {
  "kernelspec": {
   "display_name": "Python 3 (ipykernel)",
   "language": "python",
   "name": "python3"
  },
  "language_info": {
   "codemirror_mode": {
    "name": "ipython",
    "version": 3
   },
   "file_extension": ".py",
   "mimetype": "text/x-python",
   "name": "python",
   "nbconvert_exporter": "python",
   "pygments_lexer": "ipython3",
   "version": "3.10.9"
  }
 },
 "nbformat": 4,
 "nbformat_minor": 5
}
