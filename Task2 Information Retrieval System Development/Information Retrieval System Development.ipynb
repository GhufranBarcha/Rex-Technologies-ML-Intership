{
 "cells": [
  {
   "cell_type": "markdown",
   "id": "b7fb3cc6",
   "metadata": {},
   "source": [
    "# Task Objective:\n",
    "    Your mission is to design and implement an Information Retrieval (IR) system capable of efficiently\n",
    "    retrieving relevant documents from a given dataset. Below are the key steps and details for this project:"
   ]
  },
  {
   "cell_type": "markdown",
   "id": "6c7a5258",
   "metadata": {},
   "source": [
    "# Methodology\n",
    "\n",
    "###  1. Dataset Selection and Preparation\n",
    "\n",
    "###  2. Data Preprocessing\n",
    "###  3. User Query Interface\n",
    "###  4. Retrieval Algorithm\n",
    "###  5. Query Processing\n",
    "###  7. User Feedback (Optional)\n",
    "\n",
    "###  6. Evaluation\n",
    "###  8. Documentation and Presentation\n"
   ]
  },
  {
   "cell_type": "markdown",
   "id": "52c89687",
   "metadata": {},
   "source": [
    "# 1. Dataset Selection and Preparation:\n",
    "  - This Dataset is scraped from https://www.thenews.com.pk website. It has news articles from 2015 till date related to     business and sports. It Contains the Heading of the particular Article, Its content and its date. The content also contains the place from where the statement or Article was published.\n",
    "  - you can download this dataset from kaggle( https://www.kaggle.com/datasets/asad1m9a9h6mood/news-articles)\n",
    "  \n",
    "### About this csv file\n",
    "  Data set contains 4 columns\n",
    "\n",
    " - Article : Text having the news article and the place where it was published from\n",
    "- Heading : Text containing the heading of the news article.\n",
    "- Date : Date when the article was published.\n",
    "- NewsType : Type of Article i.e business or sports"
   ]
  },
  {
   "cell_type": "markdown",
   "id": "7880cfcb",
   "metadata": {},
   "source": [
    "## Importing Libraries "
   ]
  },
  {
   "cell_type": "code",
   "execution_count": 1,
   "id": "81d8785a",
   "metadata": {},
   "outputs": [],
   "source": [
    "## Importing necessary libraries\n",
    "import pandas as pd\n",
    "import numpy as np\n",
    "import re\n",
    "from nltk.stem import WordNetLemmatizer\n",
    "from nltk.corpus import stopwords ,wordnet\n",
    "from nltk.tokenize import word_tokenize\n",
    "import matplotlib.pyplot as plt"
   ]
  },
  {
   "cell_type": "code",
   "execution_count": 2,
   "id": "1bd84553",
   "metadata": {},
   "outputs": [
    {
     "data": {
      "text/html": [
       "<div>\n",
       "<style scoped>\n",
       "    .dataframe tbody tr th:only-of-type {\n",
       "        vertical-align: middle;\n",
       "    }\n",
       "\n",
       "    .dataframe tbody tr th {\n",
       "        vertical-align: top;\n",
       "    }\n",
       "\n",
       "    .dataframe thead th {\n",
       "        text-align: right;\n",
       "    }\n",
       "</style>\n",
       "<table border=\"1\" class=\"dataframe\">\n",
       "  <thead>\n",
       "    <tr style=\"text-align: right;\">\n",
       "      <th></th>\n",
       "      <th>Article</th>\n",
       "      <th>Date</th>\n",
       "      <th>Heading</th>\n",
       "      <th>NewsType</th>\n",
       "    </tr>\n",
       "  </thead>\n",
       "  <tbody>\n",
       "    <tr>\n",
       "      <th>0</th>\n",
       "      <td>KARACHI: The Sindh government has decided to b...</td>\n",
       "      <td>1/1/2015</td>\n",
       "      <td>sindh govt decides to cut public transport far...</td>\n",
       "      <td>business</td>\n",
       "    </tr>\n",
       "    <tr>\n",
       "      <th>1</th>\n",
       "      <td>HONG KONG: Asian markets started 2015 on an up...</td>\n",
       "      <td>1/2/2015</td>\n",
       "      <td>asia stocks up in new year trad</td>\n",
       "      <td>business</td>\n",
       "    </tr>\n",
       "    <tr>\n",
       "      <th>2</th>\n",
       "      <td>HONG KONG:  Hong Kong shares opened 0.66 perce...</td>\n",
       "      <td>1/5/2015</td>\n",
       "      <td>hong kong stocks open 0.66 percent lower</td>\n",
       "      <td>business</td>\n",
       "    </tr>\n",
       "    <tr>\n",
       "      <th>3</th>\n",
       "      <td>HONG KONG: Asian markets tumbled Tuesday follo...</td>\n",
       "      <td>1/6/2015</td>\n",
       "      <td>asian stocks sink euro near nine year</td>\n",
       "      <td>business</td>\n",
       "    </tr>\n",
       "    <tr>\n",
       "      <th>4</th>\n",
       "      <td>NEW YORK: US oil prices Monday slipped below $...</td>\n",
       "      <td>1/6/2015</td>\n",
       "      <td>us oil prices slip below 50 a barr</td>\n",
       "      <td>business</td>\n",
       "    </tr>\n",
       "  </tbody>\n",
       "</table>\n",
       "</div>"
      ],
      "text/plain": [
       "                                             Article      Date  \\\n",
       "0  KARACHI: The Sindh government has decided to b...  1/1/2015   \n",
       "1  HONG KONG: Asian markets started 2015 on an up...  1/2/2015   \n",
       "2  HONG KONG:  Hong Kong shares opened 0.66 perce...  1/5/2015   \n",
       "3  HONG KONG: Asian markets tumbled Tuesday follo...  1/6/2015   \n",
       "4  NEW YORK: US oil prices Monday slipped below $...  1/6/2015   \n",
       "\n",
       "                                             Heading  NewsType  \n",
       "0  sindh govt decides to cut public transport far...  business  \n",
       "1                    asia stocks up in new year trad  business  \n",
       "2           hong kong stocks open 0.66 percent lower  business  \n",
       "3             asian stocks sink euro near nine year   business  \n",
       "4                 us oil prices slip below 50 a barr  business  "
      ]
     },
     "execution_count": 2,
     "metadata": {},
     "output_type": "execute_result"
    }
   ],
   "source": [
    "## Import the dataframe using pandas \n",
    "df = pd.read_csv(\"./dataset/Articles.csv\", encoding='latin1')\n",
    "df.head()"
   ]
  },
  {
   "cell_type": "code",
   "execution_count": 3,
   "id": "aab0eb97",
   "metadata": {},
   "outputs": [
    {
     "data": {
      "text/html": [
       "<div>\n",
       "<style scoped>\n",
       "    .dataframe tbody tr th:only-of-type {\n",
       "        vertical-align: middle;\n",
       "    }\n",
       "\n",
       "    .dataframe tbody tr th {\n",
       "        vertical-align: top;\n",
       "    }\n",
       "\n",
       "    .dataframe thead th {\n",
       "        text-align: right;\n",
       "    }\n",
       "</style>\n",
       "<table border=\"1\" class=\"dataframe\">\n",
       "  <thead>\n",
       "    <tr style=\"text-align: right;\">\n",
       "      <th></th>\n",
       "      <th>Article</th>\n",
       "      <th>NewsType</th>\n",
       "    </tr>\n",
       "  </thead>\n",
       "  <tbody>\n",
       "    <tr>\n",
       "      <th>0</th>\n",
       "      <td>KARACHI: The Sindh government has decided to b...</td>\n",
       "      <td>business</td>\n",
       "    </tr>\n",
       "    <tr>\n",
       "      <th>1</th>\n",
       "      <td>HONG KONG: Asian markets started 2015 on an up...</td>\n",
       "      <td>business</td>\n",
       "    </tr>\n",
       "    <tr>\n",
       "      <th>2</th>\n",
       "      <td>HONG KONG:  Hong Kong shares opened 0.66 perce...</td>\n",
       "      <td>business</td>\n",
       "    </tr>\n",
       "    <tr>\n",
       "      <th>3</th>\n",
       "      <td>HONG KONG: Asian markets tumbled Tuesday follo...</td>\n",
       "      <td>business</td>\n",
       "    </tr>\n",
       "    <tr>\n",
       "      <th>4</th>\n",
       "      <td>NEW YORK: US oil prices Monday slipped below $...</td>\n",
       "      <td>business</td>\n",
       "    </tr>\n",
       "  </tbody>\n",
       "</table>\n",
       "</div>"
      ],
      "text/plain": [
       "                                             Article  NewsType\n",
       "0  KARACHI: The Sindh government has decided to b...  business\n",
       "1  HONG KONG: Asian markets started 2015 on an up...  business\n",
       "2  HONG KONG:  Hong Kong shares opened 0.66 perce...  business\n",
       "3  HONG KONG: Asian markets tumbled Tuesday follo...  business\n",
       "4  NEW YORK: US oil prices Monday slipped below $...  business"
      ]
     },
     "execution_count": 3,
     "metadata": {},
     "output_type": "execute_result"
    }
   ],
   "source": [
    "## Take the rows only necessary\n",
    "data = df.drop([\"Date\" ,\"Heading\"] ,axis = 1)\n",
    "data.head()"
   ]
  },
  {
   "cell_type": "markdown",
   "id": "5aad6d08",
   "metadata": {},
   "source": [
    "# 2. Data Cleaning & Preprocessing\n",
    "  - Check for missing value\n",
    "- Remove duplicates text\n",
    "- Casing\n",
    "- Removing puntuation"
   ]
  },
  {
   "cell_type": "code",
   "execution_count": 4,
   "id": "94872f77",
   "metadata": {},
   "outputs": [
    {
     "data": {
      "text/plain": [
       "Article     0\n",
       "NewsType    0\n",
       "dtype: int64"
      ]
     },
     "execution_count": 4,
     "metadata": {},
     "output_type": "execute_result"
    }
   ],
   "source": [
    "## Check for missing values\n",
    "data.isna().sum()"
   ]
  },
  {
   "cell_type": "code",
   "execution_count": 5,
   "id": "3a1dc5ea",
   "metadata": {},
   "outputs": [
    {
     "name": "stdout",
     "output_type": "stream",
     "text": [
      "Duplicates  108\n",
      "After dropping duplicates 0\n"
     ]
    }
   ],
   "source": [
    "## Check for duplicates\n",
    "print(\"Duplicates \",data.duplicated().sum())\n",
    "\n",
    "data.drop_duplicates(inplace = True) ## drop the duplicate\n",
    "\n",
    "print(\"After dropping duplicates\" , data.duplicated().sum())"
   ]
  },
  {
   "cell_type": "code",
   "execution_count": 6,
   "id": "49ba7864",
   "metadata": {},
   "outputs": [
    {
     "data": {
      "text/plain": [
       "0"
      ]
     },
     "execution_count": 6,
     "metadata": {},
     "output_type": "execute_result"
    }
   ],
   "source": [
    "## Checking for duplicates in article Column\n",
    "data.duplicated(subset = [\"Article\"]).sum()\n"
   ]
  },
  {
   "cell_type": "code",
   "execution_count": 7,
   "id": "26ba7182",
   "metadata": {},
   "outputs": [
    {
     "name": "stderr",
     "output_type": "stream",
     "text": [
      "[nltk_data] Downloading package stopwords to\n",
      "[nltk_data]     C:\\Users\\Barcha\\AppData\\Roaming\\nltk_data...\n",
      "[nltk_data]   Package stopwords is already up-to-date!\n",
      "[nltk_data] Downloading package punkt to\n",
      "[nltk_data]     C:\\Users\\Barcha\\AppData\\Roaming\\nltk_data...\n",
      "[nltk_data]   Package punkt is already up-to-date!\n"
     ]
    },
    {
     "data": {
      "text/plain": [
       "True"
      ]
     },
     "execution_count": 7,
     "metadata": {},
     "output_type": "execute_result"
    }
   ],
   "source": [
    "import nltk\n",
    "nltk.download('stopwords')\n",
    "import nltk\n",
    "nltk.download('punkt')"
   ]
  },
  {
   "cell_type": "code",
   "execution_count": 8,
   "id": "7aecbe96",
   "metadata": {},
   "outputs": [],
   "source": [
    "## Create a preprocessing function\n",
    "stops_word = set(stopwords.words(\"english\")) ## Will contain stops words\n",
    "\n",
    "def preprocessing(text):\n",
    "    text = text.lower()\n",
    "    text = re.sub(r\"https\\S+|www\\S+https\\S+\",'',text ,flags = re.MULTILINE)\n",
    "    text = re.sub(r'\\@w+|\\#','',text)\n",
    "    text = re.sub(r'[^\\w\\s\\n]','',text)\n",
    "    \n",
    "    lemitizer = WordNetLemmatizer()  ## this function converts the word to its base form\n",
    "    words = word_tokenize(text) ## split the sentence into words/tokens\n",
    "    lemitize_word = [lemitizer.lemmatize(word ,wordnet.VERB) for word in words]\n",
    "    newArray = [stop_word for stop_word in lemitize_word if stop_word not in stops_word]\n",
    "    \n",
    "    return \" \".join(newArray)\n",
    "\n",
    "    "
   ]
  },
  {
   "cell_type": "code",
   "execution_count": 9,
   "id": "432379b6",
   "metadata": {},
   "outputs": [],
   "source": [
    "## Apply preprocessing\n",
    "data[\"Article\"] = data[\"Article\"].apply(preprocessing)"
   ]
  },
  {
   "cell_type": "code",
   "execution_count": 10,
   "id": "20e738aa",
   "metadata": {},
   "outputs": [
    {
     "data": {
      "text/plain": [
       "0       karachi sindh government decide bring public t...\n",
       "1       hong kong asian market start 2015 upswing limi...\n",
       "2       hong kong hong kong share open 066 percent low...\n",
       "3       hong kong asian market tumble tuesday follow p...\n",
       "4       new york us oil price monday slip 50 barrel fi...\n",
       "                              ...                        \n",
       "2669    strongdubai dubai international airport flag c...\n",
       "2670    strongbeijing former prime minister shaukat az...\n",
       "2671    strongwashington uber ground fleet selfdriving...\n",
       "2690    strongbeijing new development bank plan cofina...\n",
       "2691    strongkarachi karachibased technology incubato...\n",
       "Name: Article, Length: 2584, dtype: object"
      ]
     },
     "execution_count": 10,
     "metadata": {},
     "output_type": "execute_result"
    }
   ],
   "source": [
    "# check the preprocessed data\n",
    "data[\"Article\"]"
   ]
  },
  {
   "cell_type": "code",
   "execution_count": 11,
   "id": "7de6815b",
   "metadata": {},
   "outputs": [
    {
     "data": {
      "text/plain": [
       "sports      1408\n",
       "business    1176\n",
       "Name: NewsType, dtype: int64"
      ]
     },
     "execution_count": 11,
     "metadata": {},
     "output_type": "execute_result"
    }
   ],
   "source": [
    "data[\"NewsType\"].value_counts()"
   ]
  },
  {
   "cell_type": "markdown",
   "id": "40089664",
   "metadata": {},
   "source": [
    "# 3. User Query Interface\n",
    "  - create a query function and preprocess it by using preprocess function from above"
   ]
  },
  {
   "cell_type": "code",
   "execution_count": 12,
   "id": "b62acee1",
   "metadata": {},
   "outputs": [],
   "source": [
    "## create a input query function\n",
    "\n",
    "def query():\n",
    "    query = input(\"Write the query(Text) :\\n \")\n",
    "    \n",
    "    query1 = preprocessing(query)\n",
    "    \n",
    "    print(\"\\nThe query after preprocessing: \\n\" ,query1)\n",
    "    \n",
    "    return query1"
   ]
  },
  {
   "cell_type": "code",
   "execution_count": 13,
   "id": "1396d05a",
   "metadata": {},
   "outputs": [
    {
     "name": "stdout",
     "output_type": "stream",
     "text": [
      "Write the query(Text) :\n",
      " j\n",
      "\n",
      "The query after preprocessing: \n",
      " j\n"
     ]
    },
    {
     "data": {
      "text/plain": [
       "'j'"
      ]
     },
     "execution_count": 13,
     "metadata": {},
     "output_type": "execute_result"
    }
   ],
   "source": [
    "query()"
   ]
  },
  {
   "cell_type": "markdown",
   "id": "a13023a1",
   "metadata": {},
   "source": [
    "#  4. Retrieval Algorithm\n",
    " - Use cosine_simularity to find the text for the query"
   ]
  },
  {
   "cell_type": "code",
   "execution_count": 38,
   "id": "18d2449e",
   "metadata": {},
   "outputs": [
    {
     "name": "stdout",
     "output_type": "stream",
     "text": [
      "Write the query(Text) :\n",
      " hellow\n",
      "\n",
      "The query after preprocessing: \n",
      " hellow\n"
     ]
    }
   ],
   "source": [
    "from sklearn.feature_extraction.text import TfidfVectorizer\n",
    "from sklearn.metrics.pairwise import cosine_similarity\n",
    "\n",
    "\n",
    "vectorizer = TfidfVectorizer()   ## convert text to numerical \n",
    "\n",
    "x = data[\"Article\"]\n",
    "\n",
    "x_vectorize = vectorizer.fit_transform(x)\n",
    "\n",
    "query11 = query()\n",
    "query_vectorizer = vectorizer.transform([query11])\n",
    "\n",
    "\n",
    "similarity = cosine_similarity(query_vectorizer ,x_vectorize)    ## use cosine simularity to compare the text\n"
   ]
  },
  {
   "cell_type": "code",
   "execution_count": 39,
   "id": "462f1801",
   "metadata": {},
   "outputs": [
    {
     "name": "stdout",
     "output_type": "stream",
     "text": [
      "\n",
      "\n",
      "For query : hellow\n",
      " \n",
      "The index is  : 0\n",
      "\n",
      "KARACHI: The Sindh government has decided to bring down public transport fares by 7 per cent due to massive reduction in petroleum product prices by the federal government, Geo News reported.Sources said reduction in fares will be applicable on public transport, rickshaw, taxi and other means of traveling.Meanwhile, Karachi Transport Ittehad (KTI) has refused to abide by the government decision.KTI President Irshad Bukhari said the commuters are charged the lowest fares in Karachi as compare to other parts of the country, adding that 80pc vehicles run on Compressed Natural Gas (CNG). Bukhari said Karachi transporters will cut fares when decrease in CNG prices will be made.                        \r\n",
      "\r\n",
      "\r\n",
      "\r\n",
      "\r\n",
      "\r\n",
      "\r\n",
      "\r\n",
      "\r\n",
      "\r\n",
      "\r\n",
      "\n"
     ]
    }
   ],
   "source": [
    "## Search the text for most relevant match\n",
    "\n",
    "max_text_index= similarity.argmax()\n",
    "print()\n",
    "print(f\"\\nFor query : {query11}\\n\",f\"\\nThe index is  : {max_text_index}\\n\")\n",
    "print( df[\"Article\"][max_text_index])    \n"
   ]
  },
  {
   "cell_type": "code",
   "execution_count": null,
   "id": "aaadb253",
   "metadata": {},
   "outputs": [],
   "source": []
  },
  {
   "cell_type": "code",
   "execution_count": null,
   "id": "e126dbe1",
   "metadata": {},
   "outputs": [],
   "source": []
  },
  {
   "cell_type": "code",
   "execution_count": null,
   "id": "cd814b77",
   "metadata": {},
   "outputs": [],
   "source": []
  },
  {
   "cell_type": "code",
   "execution_count": null,
   "id": "a6122edf",
   "metadata": {},
   "outputs": [],
   "source": []
  }
 ],
 "metadata": {
  "kernelspec": {
   "display_name": "Python 3 (ipykernel)",
   "language": "python",
   "name": "python3"
  },
  "language_info": {
   "codemirror_mode": {
    "name": "ipython",
    "version": 3
   },
   "file_extension": ".py",
   "mimetype": "text/x-python",
   "name": "python",
   "nbconvert_exporter": "python",
   "pygments_lexer": "ipython3",
   "version": "3.10.9"
  }
 },
 "nbformat": 4,
 "nbformat_minor": 5
}
